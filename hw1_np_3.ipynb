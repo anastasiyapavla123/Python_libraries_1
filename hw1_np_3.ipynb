{
 "cells": [
  {
   "cell_type": "code",
   "execution_count": 1,
   "id": "610fe0d0",
   "metadata": {},
   "outputs": [],
   "source": [
    "import numpy as np"
   ]
  },
  {
   "cell_type": "code",
   "execution_count": 2,
   "id": "71c3659d",
   "metadata": {},
   "outputs": [],
   "source": [
    "a = np.array([[1, 6],[2, 8],[3, 11],[3, 10],[1, 7]])\n",
    "mean_a = a.mean(axis=0)\n",
    "a_centered = np.array([a[np.arange(5), 0] - mean_a[0], a[np.arange(5), 1] - mean_a[1]]).T"
   ]
  },
  {
   "cell_type": "code",
   "execution_count": 3,
   "id": "9a9b2689",
   "metadata": {},
   "outputs": [
    {
     "data": {
      "text/plain": [
       "8.0"
      ]
     },
     "execution_count": 3,
     "metadata": {},
     "output_type": "execute_result"
    }
   ],
   "source": [
    "a_centered_sp = np.dot(a_centered[np.arange(5), 0], a_centered[np.arange(5), 1])\n",
    "a_centered_sp"
   ]
  },
  {
   "cell_type": "code",
   "execution_count": 4,
   "id": "a1b601f0",
   "metadata": {},
   "outputs": [
    {
     "data": {
      "text/plain": [
       "2.0"
      ]
     },
     "execution_count": 4,
     "metadata": {},
     "output_type": "execute_result"
    }
   ],
   "source": [
    "a_centered_sp/4"
   ]
  },
  {
   "cell_type": "code",
   "execution_count": null,
   "id": "d0678e63",
   "metadata": {},
   "outputs": [],
   "source": []
  }
 ],
 "metadata": {
  "kernelspec": {
   "display_name": "Python 3 (ipykernel)",
   "language": "python",
   "name": "python3"
  },
  "language_info": {
   "codemirror_mode": {
    "name": "ipython",
    "version": 3
   },
   "file_extension": ".py",
   "mimetype": "text/x-python",
   "name": "python",
   "nbconvert_exporter": "python",
   "pygments_lexer": "ipython3",
   "version": "3.9.12"
  }
 },
 "nbformat": 4,
 "nbformat_minor": 5
}
