{
 "cells": [
  {
   "cell_type": "code",
   "execution_count": 1,
   "id": "3aa40378",
   "metadata": {},
   "outputs": [],
   "source": [
    "import pandas as pd"
   ]
  },
  {
   "cell_type": "code",
   "execution_count": 2,
   "id": "9cd524ed",
   "metadata": {},
   "outputs": [],
   "source": [
    "authors = pd.DataFrame({'author_id': [1, 2, 3], 'author_name': ['Тургенев', 'Чехов', 'Островский']})\n",
    "book = pd.DataFrame({'author_id': [1, 1, 1, 2, 2, 3, 3], 'book_title': ['Отцы и дети', 'Рудин', 'Дворянское гнездо', 'Толстый и тонкий', 'Дама с собачкой', 'Гроза', 'Таланты и поклонники'], 'price': [450, 300, 350, 500, 450, 370, 290]})\n",
    "authors_price = pd.merge(authors, book, on = 'author_id', how = 'left')"
   ]
  },
  {
   "cell_type": "code",
   "execution_count": 3,
   "id": "72f82c6e",
   "metadata": {},
   "outputs": [
    {
     "data": {
      "text/html": [
       "<div>\n",
       "<style scoped>\n",
       "    .dataframe tbody tr th:only-of-type {\n",
       "        vertical-align: middle;\n",
       "    }\n",
       "\n",
       "    .dataframe tbody tr th {\n",
       "        vertical-align: top;\n",
       "    }\n",
       "\n",
       "    .dataframe thead th {\n",
       "        text-align: right;\n",
       "    }\n",
       "</style>\n",
       "<table border=\"1\" class=\"dataframe\">\n",
       "  <thead>\n",
       "    <tr style=\"text-align: right;\">\n",
       "      <th></th>\n",
       "      <th>min_price</th>\n",
       "      <th>max_price</th>\n",
       "      <th>mean_price</th>\n",
       "    </tr>\n",
       "    <tr>\n",
       "      <th>author_name</th>\n",
       "      <th></th>\n",
       "      <th></th>\n",
       "      <th></th>\n",
       "    </tr>\n",
       "  </thead>\n",
       "  <tbody>\n",
       "    <tr>\n",
       "      <th>Островский</th>\n",
       "      <td>290</td>\n",
       "      <td>370</td>\n",
       "      <td>330.000000</td>\n",
       "    </tr>\n",
       "    <tr>\n",
       "      <th>Тургенев</th>\n",
       "      <td>300</td>\n",
       "      <td>450</td>\n",
       "      <td>366.666667</td>\n",
       "    </tr>\n",
       "    <tr>\n",
       "      <th>Чехов</th>\n",
       "      <td>450</td>\n",
       "      <td>500</td>\n",
       "      <td>475.000000</td>\n",
       "    </tr>\n",
       "  </tbody>\n",
       "</table>\n",
       "</div>"
      ],
      "text/plain": [
       "             min_price  max_price  mean_price\n",
       "author_name                                  \n",
       "Островский         290        370  330.000000\n",
       "Тургенев           300        450  366.666667\n",
       "Чехов              450        500  475.000000"
      ]
     },
     "execution_count": 3,
     "metadata": {},
     "output_type": "execute_result"
    }
   ],
   "source": [
    "a1 = authors_price.groupby('author_name').agg({'price':'min'}).rename(columns={'price':'min_price'})\n",
    "a2 = authors_price.groupby('author_name').agg({'price':'max'}).rename(columns={'price':'max_price'})\n",
    "a3 = authors_price.groupby('author_name').agg({'price':'mean'}).rename(columns={'price':'mean_price'})\n",
    "authors_stat = pd.concat([a1, a2, a3], axis = 1)\n",
    "authors_stat"
   ]
  },
  {
   "cell_type": "code",
   "execution_count": null,
   "id": "a6b6cd1c",
   "metadata": {},
   "outputs": [],
   "source": []
  }
 ],
 "metadata": {
  "kernelspec": {
   "display_name": "Python 3 (ipykernel)",
   "language": "python",
   "name": "python3"
  },
  "language_info": {
   "codemirror_mode": {
    "name": "ipython",
    "version": 3
   },
   "file_extension": ".py",
   "mimetype": "text/x-python",
   "name": "python",
   "nbconvert_exporter": "python",
   "pygments_lexer": "ipython3",
   "version": "3.9.12"
  }
 },
 "nbformat": 4,
 "nbformat_minor": 5
}
