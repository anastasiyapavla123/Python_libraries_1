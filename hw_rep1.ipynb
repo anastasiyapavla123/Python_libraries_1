{
 "cells": [
  {
   "cell_type": "code",
   "execution_count": 1,
   "id": "107c0b32",
   "metadata": {},
   "outputs": [],
   "source": [
    "import numpy as np"
   ]
  },
  {
   "cell_type": "code",
   "execution_count": 2,
   "id": "e019aa91",
   "metadata": {},
   "outputs": [
    {
     "data": {
      "text/plain": [
       "array([12, 13, 14, 15, 16, 17, 18, 19, 20, 21, 22, 23])"
      ]
     },
     "execution_count": 2,
     "metadata": {},
     "output_type": "execute_result"
    }
   ],
   "source": [
    "#Создать одномерный массив Numpy под названием a из 12 последовательных целых чисел чисел от 12 до 24 невключительно\n",
    "a = np.arange(12, 24)\n",
    "a"
   ]
  },
  {
   "cell_type": "code",
   "execution_count": 3,
   "id": "dad9e8e5",
   "metadata": {},
   "outputs": [
    {
     "name": "stdout",
     "output_type": "stream",
     "text": [
      "[[12 13 14 15 16 17]\n",
      " [18 19 20 21 22 23]]\n",
      "[[12 13 14]\n",
      " [15 16 17]\n",
      " [18 19 20]\n",
      " [21 22 23]]\n",
      "[[12 13]\n",
      " [14 15]\n",
      " [16 17]\n",
      " [18 19]\n",
      " [20 21]\n",
      " [22 23]]\n",
      "[[12]\n",
      " [13]\n",
      " [14]\n",
      " [15]\n",
      " [16]\n",
      " [17]\n",
      " [18]\n",
      " [19]\n",
      " [20]\n",
      " [21]\n",
      " [22]\n",
      " [23]]\n",
      "[[12 13 14 15]\n",
      " [16 17 18 19]\n",
      " [20 21 22 23]]\n"
     ]
    }
   ],
   "source": [
    "#Создать 5 двумерных массивов разной формы из массива a. Не использовать в аргументах метода reshape число -1.\n",
    "a1 = a.reshape(2, 6)\n",
    "a2 = a.reshape(4, 3)\n",
    "a3 = a.reshape(6, 2)\n",
    "a4 = a.reshape(12, 1)\n",
    "a5 = a.reshape(3, 4)\n",
    "print(a1)\n",
    "print(a2)\n",
    "print(a3)\n",
    "print(a4)\n",
    "print(a5)"
   ]
  },
  {
   "cell_type": "code",
   "execution_count": 4,
   "id": "b6caa1e1",
   "metadata": {},
   "outputs": [
    {
     "name": "stdout",
     "output_type": "stream",
     "text": [
      "[[12 13 14 15 16 17]\n",
      " [18 19 20 21 22 23]]\n",
      "[[12 13 14 15]\n",
      " [16 17 18 19]\n",
      " [20 21 22 23]]\n",
      "[[12 13]\n",
      " [14 15]\n",
      " [16 17]\n",
      " [18 19]\n",
      " [20 21]\n",
      " [22 23]]\n",
      "[[12]\n",
      " [13]\n",
      " [14]\n",
      " [15]\n",
      " [16]\n",
      " [17]\n",
      " [18]\n",
      " [19]\n",
      " [20]\n",
      " [21]\n",
      " [22]\n",
      " [23]]\n",
      "[[12 13 14]\n",
      " [15 16 17]\n",
      " [18 19 20]\n",
      " [21 22 23]]\n"
     ]
    }
   ],
   "source": [
    "#Создать 5 двумерных массивов разной формы из массива a. \n",
    "#Использовать в аргументах метода reshape число -1 (в трех примерах - для обозначения числа столбцов, в двух - для строк).\n",
    "c1 = a.reshape(-1, 6)\n",
    "c2 = a.reshape(-1, 4)\n",
    "c3 = a.reshape(-1, 2)\n",
    "c4 = a.reshape(12, -1)\n",
    "c5 = a.reshape(4, -1)\n",
    "print(c1)\n",
    "print(c2)\n",
    "print(c3)\n",
    "print(c4)\n",
    "print(c5)"
   ]
  },
  {
   "cell_type": "code",
   "execution_count": 5,
   "id": "b1b38920",
   "metadata": {},
   "outputs": [
    {
     "name": "stdout",
     "output_type": "stream",
     "text": [
      "Error\n",
      "12\n"
     ]
    }
   ],
   "source": [
    "#Если массив двумерный, можно вывести по номеру столбца и по номеру строки.\n",
    "#Попоробуем вывести содержимое массива a по номеру строки и по номеру столбца.\n",
    "try:\n",
    "    print(a[0][0])\n",
    "except IndexError:\n",
    "    print('Error')\n",
    "#Попробуем вывести содержимое массива с4 по номеру столбца и по номеру строки.\n",
    "try:\n",
    "    print(c4[0][0])\n",
    "except IndexError:\n",
    "    ('Error')\n",
    "#При выводе одномерного массива a будет ошибка, при выводе массива с4 - ошибки нет. \n",
    "#Значит с4 - это двумерный массив, а массив  a - одномерный."
   ]
  },
  {
   "cell_type": "code",
   "execution_count": 9,
   "id": "96c2f0c0",
   "metadata": {},
   "outputs": [
    {
     "name": "stdout",
     "output_type": "stream",
     "text": [
      "[[-0.83885358  0.66937714  0.1614342  -0.57980642]\n",
      " [-1.18006572  0.67547853  1.25207836  0.63871137]\n",
      " [-2.01321967  0.42294449  0.2420175  -0.43812362]]\n",
      "**************************************************\n",
      "[-0.83885358  0.66937714  0.1614342  -0.57980642 -1.18006572  0.67547853\n",
      "  1.25207836  0.63871137 -2.01321967  0.42294449  0.2420175  -0.43812362]\n"
     ]
    }
   ],
   "source": [
    "#Создать массив из 3 строк и 4 столбцов, \n",
    "#состоящий из случайных чисел с плавающей запятой из нормального распределения со средним, \n",
    "#равным 0 и среднеквадратичным отклонением, равным 1.0. \n",
    "#Получить из этого массива одномерный массив с таким же атрибутом size, как и исходный массив.\n",
    "x = np.random.randn(3, 4)\n",
    "print(x)\n",
    "x1 = x.flatten()\n",
    "print('*'*50)\n",
    "print(x1)"
   ]
  },
  {
   "cell_type": "code",
   "execution_count": 10,
   "id": "95354fb5",
   "metadata": {},
   "outputs": [
    {
     "data": {
      "text/plain": [
       "array([20, 18, 16, 14, 12, 10,  8,  6,  4,  2])"
      ]
     },
     "execution_count": 10,
     "metadata": {},
     "output_type": "execute_result"
    }
   ],
   "source": [
    "#Создать массив a, состоящий из целых чисел, убывающих от 20 до 0 невключительно с интервалом 2.\n",
    "a = np.arange(20, 0, -2)\n",
    "a"
   ]
  },
  {
   "cell_type": "code",
   "execution_count": 11,
   "id": "cd474bc1",
   "metadata": {},
   "outputs": [
    {
     "data": {
      "text/plain": [
       "array([[20, 18, 16, 14, 12, 10,  8,  6,  4,  2]])"
      ]
     },
     "execution_count": 11,
     "metadata": {},
     "output_type": "execute_result"
    }
   ],
   "source": [
    "#Создать массив b, состоящий из 1 строки и 10 столбцов: \n",
    "#целых чисел, убывающих от 20 до 1 невключительно с интервалом 2. \n",
    "#В чем разница между массивами a и b?\n",
    "b = (np.arange(20, 1, -2)).reshape(1, 10)\n",
    "b\n",
    "#Массив b является двумерным, массив a - одномерным."
   ]
  },
  {
   "cell_type": "code",
   "execution_count": 12,
   "id": "f0618631",
   "metadata": {},
   "outputs": [
    {
     "name": "stdout",
     "output_type": "stream",
     "text": [
      "[[0. 0.]\n",
      " [0. 0.]]\n",
      "**************************************************\n",
      "[[1. 1.]\n",
      " [1. 1.]\n",
      " [1. 1.]]\n"
     ]
    }
   ],
   "source": [
    "#Вертикально соединить массивы a и b. a - двумерный массив из нулей, \n",
    "#число строк которого больше 1 и на 1 меньше, чем число строк двумерного массива b, \n",
    "#состоящего из единиц. Итоговый массив v должен иметь атрибут size, равный 10.\n",
    "a = np.zeros((2, 2))\n",
    "b = np.ones((3, 2))\n",
    "print(a)\n",
    "print('*' * 50)\n",
    "print(b)"
   ]
  },
  {
   "cell_type": "code",
   "execution_count": 13,
   "id": "9962cf64",
   "metadata": {},
   "outputs": [
    {
     "data": {
      "text/plain": [
       "array([[0., 0.],\n",
       "       [0., 0.],\n",
       "       [1., 1.],\n",
       "       [1., 1.],\n",
       "       [1., 1.]])"
      ]
     },
     "execution_count": 13,
     "metadata": {},
     "output_type": "execute_result"
    }
   ],
   "source": [
    "v = np.concatenate((a, b), axis = 0)\n",
    "v"
   ]
  },
  {
   "cell_type": "code",
   "execution_count": 14,
   "id": "8f852b8e",
   "metadata": {},
   "outputs": [
    {
     "data": {
      "text/plain": [
       "10"
      ]
     },
     "execution_count": 14,
     "metadata": {},
     "output_type": "execute_result"
    }
   ],
   "source": [
    "np.size(v)"
   ]
  },
  {
   "cell_type": "code",
   "execution_count": 15,
   "id": "f8c94605",
   "metadata": {},
   "outputs": [
    {
     "data": {
      "text/plain": [
       "array([ 0,  1,  2,  3,  4,  5,  6,  7,  8,  9, 10, 11])"
      ]
     },
     "execution_count": 15,
     "metadata": {},
     "output_type": "execute_result"
    }
   ],
   "source": [
    "#Создать одномерный массив а, состоящий из последовательности целых чисел от 0 до 12.\n",
    "a = np.arange(12)\n",
    "a"
   ]
  },
  {
   "cell_type": "code",
   "execution_count": 16,
   "id": "449b1007",
   "metadata": {},
   "outputs": [
    {
     "data": {
      "text/plain": [
       "array([[ 0,  1,  2],\n",
       "       [ 3,  4,  5],\n",
       "       [ 6,  7,  8],\n",
       "       [ 9, 10, 11]])"
      ]
     },
     "execution_count": 16,
     "metadata": {},
     "output_type": "execute_result"
    }
   ],
   "source": [
    "#Поменять форму этого массива, чтобы получилась матрица A (двумерный массив Numpy), состоящая из 4 строк и 3 столбцов.\n",
    "A = a.reshape(4, 3)\n",
    "A"
   ]
  },
  {
   "cell_type": "code",
   "execution_count": 17,
   "id": "1b3d9648",
   "metadata": {},
   "outputs": [
    {
     "data": {
      "text/plain": [
       "array([[ 0,  3,  6,  9],\n",
       "       [ 1,  4,  7, 10],\n",
       "       [ 2,  5,  8, 11]])"
      ]
     },
     "execution_count": 17,
     "metadata": {},
     "output_type": "execute_result"
    }
   ],
   "source": [
    "#Получить матрицу At путем транспонирования матрицы A.\n",
    "At = A.T\n",
    "At"
   ]
  },
  {
   "cell_type": "code",
   "execution_count": 18,
   "id": "43f1688d",
   "metadata": {},
   "outputs": [
    {
     "data": {
      "text/plain": [
       "array([[  5,  14,  23,  32],\n",
       "       [ 14,  50,  86, 122],\n",
       "       [ 23,  86, 149, 212],\n",
       "       [ 32, 122, 212, 302]])"
      ]
     },
     "execution_count": 18,
     "metadata": {},
     "output_type": "execute_result"
    }
   ],
   "source": [
    "#Получить матрицу B, умножив матрицу A на матрицу At с помощью матричного умножения. \n",
    "B = np.dot(A, At)\n",
    "B"
   ]
  },
  {
   "cell_type": "code",
   "execution_count": 20,
   "id": "e497d2fa",
   "metadata": {},
   "outputs": [
    {
     "data": {
      "text/plain": [
       "(16, (4, 4))"
      ]
     },
     "execution_count": 20,
     "metadata": {},
     "output_type": "execute_result"
    }
   ],
   "source": [
    "#Какой размер имеет матрица B? \n",
    "np.size(B), B.shape"
   ]
  },
  {
   "cell_type": "code",
   "execution_count": 21,
   "id": "e8ea3dc6",
   "metadata": {},
   "outputs": [
    {
     "data": {
      "text/plain": [
       "0.0"
      ]
     },
     "execution_count": 21,
     "metadata": {},
     "output_type": "execute_result"
    }
   ],
   "source": [
    "#Получится ли вычислить обратную матрицу для матрицы B и почему?\n",
    "########\n",
    "#Если определитель матрицы равен нулю, то обратную матрицу посчитать невозможно.\n",
    "#В этом случае определитель матрицы B равен нулю, поэтому ответ нет.\n",
    "np.linalg.det(B)"
   ]
  },
  {
   "cell_type": "code",
   "execution_count": 22,
   "id": "16509230",
   "metadata": {},
   "outputs": [],
   "source": [
    "#Инициализируйте генератор случайных числе с помощью объекта seed, равного 42.\n",
    "np.random.seed(42)"
   ]
  },
  {
   "cell_type": "code",
   "execution_count": 23,
   "id": "3e7a9e40",
   "metadata": {},
   "outputs": [
    {
     "data": {
      "text/plain": [
       "array([ 6,  3, 12, 14, 10,  7, 12,  4,  6,  9,  2,  6, 10, 10,  7,  4])"
      ]
     },
     "execution_count": 23,
     "metadata": {},
     "output_type": "execute_result"
    }
   ],
   "source": [
    "#Создайте одномерный массив c, \n",
    "#составленный из последовательности 16-ти случайных равномерно распределенных целых чисел от 0 до 16 невключительно. \n",
    "c = np.random.randint(0, 16, 16)\n",
    "c"
   ]
  },
  {
   "cell_type": "code",
   "execution_count": 24,
   "id": "e3554b84",
   "metadata": {},
   "outputs": [
    {
     "data": {
      "text/plain": [
       "array([[ 6,  3, 12, 14],\n",
       "       [10,  7, 12,  4],\n",
       "       [ 6,  9,  2,  6],\n",
       "       [10, 10,  7,  4]])"
      ]
     },
     "execution_count": 24,
     "metadata": {},
     "output_type": "execute_result"
    }
   ],
   "source": [
    "#Поменяйте его форму так, чтобы получилась квадратная матрица C. \n",
    "C = c.reshape(4, 4)\n",
    "C"
   ]
  },
  {
   "cell_type": "code",
   "execution_count": 25,
   "id": "10fae871",
   "metadata": {},
   "outputs": [
    {
     "data": {
      "text/plain": [
       "array([[ 65,  44, 143, 172],\n",
       "       [114, 120, 206, 162],\n",
       "       [ 83, 176, 169, 272],\n",
       "       [132, 222, 282, 342]])"
      ]
     },
     "execution_count": 25,
     "metadata": {},
     "output_type": "execute_result"
    }
   ],
   "source": [
    "#Получите матрицу D, поэлементно прибавив матрицу B из предыдущего вопроса к матрице C, умноженной на 10. \n",
    "D = C*10 + B\n",
    "D"
   ]
  },
  {
   "cell_type": "code",
   "execution_count": 26,
   "id": "209da57a",
   "metadata": {},
   "outputs": [
    {
     "data": {
      "text/plain": [
       "-28511999.999999944"
      ]
     },
     "execution_count": 26,
     "metadata": {},
     "output_type": "execute_result"
    }
   ],
   "source": [
    "#Определитель\n",
    "d = np.linalg.det(D)\n",
    "d"
   ]
  },
  {
   "cell_type": "code",
   "execution_count": 27,
   "id": "deb932f1",
   "metadata": {},
   "outputs": [
    {
     "data": {
      "text/plain": [
       "4"
      ]
     },
     "execution_count": 27,
     "metadata": {},
     "output_type": "execute_result"
    }
   ],
   "source": [
    "#Ранг\n",
    "r = np.linalg.matrix_rank(D)\n",
    "r"
   ]
  },
  {
   "cell_type": "code",
   "execution_count": 28,
   "id": "a55eccfa",
   "metadata": {},
   "outputs": [
    {
     "data": {
      "text/plain": [
       "array([[ 0.00935396,  0.04486532,  0.05897517, -0.07286055],\n",
       "       [-0.01503577, -0.00122896, -0.00192971,  0.00967873],\n",
       "       [-0.00356692, -0.01782828, -0.04152146,  0.04326178],\n",
       "       [ 0.00909091, -0.00181818,  0.01272727, -0.01090909]])"
      ]
     },
     "execution_count": 28,
     "metadata": {},
     "output_type": "execute_result"
    }
   ],
   "source": [
    "#Обратная матрица\n",
    "D_inv = np.linalg.inv(D)\n",
    "D_inv"
   ]
  },
  {
   "cell_type": "code",
   "execution_count": 29,
   "id": "71e4399a",
   "metadata": {},
   "outputs": [
    {
     "data": {
      "text/plain": [
       "array([[1, 1, 1, 0],\n",
       "       [0, 0, 0, 1],\n",
       "       [0, 0, 0, 1],\n",
       "       [1, 0, 1, 0]])"
      ]
     },
     "execution_count": 29,
     "metadata": {},
     "output_type": "execute_result"
    }
   ],
   "source": [
    "#Приравняйте к нулю отрицательные числа в матрице D_inv, а положительные - к единице. \n",
    "#Убедитесь, что в матрице D_inv остались только нули и единицы. \n",
    "D_inv = np.where(D_inv < 0, 0, 1)\n",
    "D_inv"
   ]
  },
  {
   "cell_type": "code",
   "execution_count": 30,
   "id": "d17fed00",
   "metadata": {},
   "outputs": [
    {
     "data": {
      "text/plain": [
       "array([[  5,  14,  23,  14],\n",
       "       [ 10,   7,  12, 122],\n",
       "       [  6,   9,   2, 212],\n",
       "       [ 32,  10, 212,   4]])"
      ]
     },
     "execution_count": 30,
     "metadata": {},
     "output_type": "execute_result"
    }
   ],
   "source": [
    "#С помощью функции numpy.where, используя матрицу D_inv в качестве маски, \n",
    "#а матрицы B и C - в качестве источников данных, получите матрицу E размером 4x4.  \n",
    "#Элементы матрицы E, для которых соответствующий элемент матрицы D_inv равен 1, \n",
    "#должны быть равны соответствующему элементу матрицы B, а элементы матрицы E, \n",
    "#для которых соответствующий элемент матрицы D_inv равен 0, должны быть равны соответствующему элементу матрицы C.\n",
    "E = np.where(D_inv == 1, B, C)\n",
    "E"
   ]
  },
  {
   "cell_type": "code",
   "execution_count": null,
   "id": "c7c3ee99",
   "metadata": {},
   "outputs": [],
   "source": []
  }
 ],
 "metadata": {
  "kernelspec": {
   "display_name": "Python 3 (ipykernel)",
   "language": "python",
   "name": "python3"
  },
  "language_info": {
   "codemirror_mode": {
    "name": "ipython",
    "version": 3
   },
   "file_extension": ".py",
   "mimetype": "text/x-python",
   "name": "python",
   "nbconvert_exporter": "python",
   "pygments_lexer": "ipython3",
   "version": "3.9.12"
  }
 },
 "nbformat": 4,
 "nbformat_minor": 5
}
